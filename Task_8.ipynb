{
 "cells": [
  {
   "cell_type": "markdown",
   "metadata": {},
   "source": [
    "# Task_8"
   ]
  },
  {
   "cell_type": "markdown",
   "metadata": {},
   "source": [
    "# Q 1: Day 4: Binomial Distribution I"
   ]
  },
  {
   "cell_type": "code",
   "execution_count": 1,
   "metadata": {},
   "outputs": [
    {
     "name": "stdout",
     "output_type": "stream",
     "text": [
      "1.09 1\n",
      "0.696\n"
     ]
    }
   ],
   "source": [
    "from math import *\n",
    "\n",
    "def binomial_dist(x, n, p):\n",
    "    b = (factorial(n)/(factorial(x)*factorial(n-x))) * (p**x) * ((1-p)**(n-x))\n",
    "    return b\n",
    "    \n",
    "if __name__ == '__main__':\n",
    "    boy, girl = map(float, input().strip().split())\n",
    "    n , p = 6 , boy/(boy+girl)\n",
    "    b_dist = sum([binomial_dist(i, n, p) for i in range(3,7)])\n",
    "    \n",
    "    print(round(b_dist, 3))"
   ]
  },
  {
   "cell_type": "markdown",
   "metadata": {},
   "source": [
    "# Q 2: Day 4: Binomial Distribution II"
   ]
  },
  {
   "cell_type": "code",
   "execution_count": 2,
   "metadata": {},
   "outputs": [
    {
     "name": "stdout",
     "output_type": "stream",
     "text": [
      "12 10\n",
      "0.891\n",
      "0.342\n"
     ]
    }
   ],
   "source": [
    "\n",
    "\n",
    "from math import *\n",
    "\n",
    "def binomial_dist(x, n, p):\n",
    "    b = (factorial(n)/(factorial(x)*factorial(n-x))) * (p**x) * ((1-p)**(n-x))\n",
    "    return b\n",
    "    \n",
    "if __name__ == '__main__':\n",
    "    perc, piston_size = map(float, input().strip().split())\n",
    "    n , p = 10 , perc/100\n",
    "    b_dist = sum([binomial_dist(i, n, p) for i in range(3)])\n",
    "    b_dist2 = sum([binomial_dist(i, n, p) for i in range(2,11)])\n",
    "\n",
    "    print(round(b_dist, 3))\n",
    "    print(round(b_dist2, 3))"
   ]
  },
  {
   "cell_type": "markdown",
   "metadata": {},
   "source": [
    "# Q: Day 5: Normal Distribution I"
   ]
  },
  {
   "cell_type": "code",
   "execution_count": 3,
   "metadata": {},
   "outputs": [
    {
     "name": "stdout",
     "output_type": "stream",
     "text": [
      "20 2\n",
      "19.5\n",
      "20 22\n",
      "0.401\n",
      "0.341\n"
     ]
    }
   ],
   "source": [
    "\n",
    "\n",
    "from math import *\n",
    "\n",
    "mean, std = map(int, input().strip().split())\n",
    "\n",
    "x = float(input())\n",
    "p_x = 0.5*(1 + erf((x - mean)/(std * sqrt(2.0))))\n",
    "\n",
    "lower, upper = map(int, input().strip().split())\n",
    "\n",
    "p_upper = 0.5*(1 + erf((upper - mean)/(std * sqrt(2.0))))\n",
    "p_lower = 0.5*(1 + erf((lower - mean)/(std * sqrt(2.0))))\n",
    "\n",
    "print(round(p_x , 3))\n",
    "print(round(p_upper - p_lower, 3))\n"
   ]
  },
  {
   "cell_type": "markdown",
   "metadata": {},
   "source": [
    "# Q4: Day 5: Normal Distribution II"
   ]
  },
  {
   "cell_type": "code",
   "execution_count": 4,
   "metadata": {},
   "outputs": [
    {
     "name": "stdout",
     "output_type": "stream",
     "text": [
      "70 10\n",
      "80\n",
      "60\n",
      "15.87\n",
      "84.13\n",
      "15.87\n"
     ]
    }
   ],
   "source": [
    "\n",
    "\n",
    "from math import *\n",
    "\n",
    "mean, std = map(int, input().strip().split())\n",
    "\n",
    "h_grade = int(input())\n",
    "l_grade = int(input())\n",
    "\n",
    "cdf_grade = lambda x : 0.5*(1 + erf((x - mean)/(std * sqrt(2))))\n",
    "\n",
    "print(round((1 - cdf_grade(h_grade)) * 100 , 2))\n",
    "print(round((1 - cdf_grade(l_grade)) * 100 , 2))\n",
    "print(round(cdf_grade(l_grade) * 100 , 2))"
   ]
  },
  {
   "cell_type": "markdown",
   "metadata": {},
   "source": [
    "# Q5: Day 6: The Central Limit Theorem I"
   ]
  },
  {
   "cell_type": "code",
   "execution_count": 5,
   "metadata": {},
   "outputs": [
    {
     "name": "stdout",
     "output_type": "stream",
     "text": [
      "9800\n",
      "49\n",
      "205\n",
      "15\n",
      "0.0098\n"
     ]
    }
   ],
   "source": [
    "\n",
    "\n",
    "from math import *\n",
    "\n",
    "max_wght = int(input())\n",
    "box = int(input())\n",
    "mean = int(input())\n",
    "std = int(input())\n",
    "\n",
    "sample_mean = mean * box\n",
    "sample_std = std * sqrt(box)\n",
    "\n",
    "cdf = lambda x,sample_mean, sample_std : 0.5 * (1 + erf((x-sample_mean)/(sample_std * sqrt(2))))\n",
    "\n",
    "print(round(cdf(max_wght, sample_mean, sample_std), 4))"
   ]
  },
  {
   "cell_type": "markdown",
   "metadata": {},
   "source": [
    "# Q6: Day 6: The Central Limit Theorem II"
   ]
  },
  {
   "cell_type": "code",
   "execution_count": 6,
   "metadata": {},
   "outputs": [
    {
     "name": "stdout",
     "output_type": "stream",
     "text": [
      "250\n",
      "100\n",
      "2.4\n",
      "2.0\n",
      "0.6915\n"
     ]
    }
   ],
   "source": [
    "\n",
    "\n",
    "from math import *\n",
    "\n",
    "ticket = int(input())\n",
    "student = int(input())\n",
    "mean = float(input())\n",
    "std = float(input())\n",
    "\n",
    "sample_mean = mean * student\n",
    "sample_std = std * sqrt(student)\n",
    "\n",
    "cdf = lambda x,sample_mean, sample_std : 0.5 * (1 + erf((x-sample_mean)/(sample_std * sqrt(2))))\n",
    "\n",
    "print(round(cdf(ticket, sample_mean, sample_std), 4))"
   ]
  },
  {
   "cell_type": "markdown",
   "metadata": {},
   "source": [
    "# Q 7: Day 6: The Central Limit Theorem III"
   ]
  },
  {
   "cell_type": "code",
   "execution_count": 1,
   "metadata": {
    "scrolled": true
   },
   "outputs": [
    {
     "name": "stdout",
     "output_type": "stream",
     "text": [
      "100\n",
      "500\n",
      "80\n",
      ".9\n",
      "1.96\n",
      "484.32\n",
      "515.68\n"
     ]
    }
   ],
   "source": [
    "\n",
    "\n",
    "from math import *\n",
    "\n",
    "sample_size = int(input())\n",
    "mean = int(input())\n",
    "std = int(input())\n",
    "confidence = float(input())\n",
    "z = float(input())\n",
    "\n",
    "mu_neg = mean - z * (std / sqrt(sample_size))\n",
    "mu_pos = mean + z * (std / sqrt(sample_size))\n",
    "\n",
    "print(round(mu_neg, 2))\n",
    "print(round(mu_pos, 2))"
   ]
  },
  {
   "cell_type": "markdown",
   "metadata": {},
   "source": [
    "# Q 8: Day 7: Pearson Correlation Coefficient I"
   ]
  },
  {
   "cell_type": "code",
   "execution_count": 2,
   "metadata": {},
   "outputs": [
    {
     "name": "stdout",
     "output_type": "stream",
     "text": [
      "10\n",
      "10 9.8 8 7.8 7.7 7 6 5 4 2 \n",
      "200 44 32 24 22 17 15 12 8 4\n",
      "0.612\n"
     ]
    }
   ],
   "source": [
    "\n",
    "\n",
    "from math import *\n",
    "\n",
    "data_size = int(input())\n",
    "X = list(map(float, input().strip().split()))\n",
    "Y = list(map(float, input().strip().split()))\n",
    "\n",
    "X_mean = sum(X) / data_size\n",
    "X_std = sqrt(sum([(i-X_mean)**2 for i in X]) / data_size)\n",
    "\n",
    "Y_mean = sum(Y) / data_size\n",
    "Y_std = sqrt(sum([(i-Y_mean)**2 for i in Y]) / data_size)\n",
    "\n",
    "correlation = 0\n",
    "\n",
    "for i,j in zip(X,Y):\n",
    "    correlation += ((i - X_mean) * (j - Y_mean)) / (data_size * X_std * Y_std)\n",
    "\n",
    "\n",
    "print(round(correlation, 3))"
   ]
  },
  {
   "cell_type": "markdown",
   "metadata": {},
   "source": [
    "# Q9: Day 8: Least Square Regression Line"
   ]
  },
  {
   "cell_type": "code",
   "execution_count": 3,
   "metadata": {},
   "outputs": [
    {
     "name": "stdout",
     "output_type": "stream",
     "text": [
      "95 85\n",
      "85 95\n",
      "80 70\n",
      "70 65\n",
      "60 70\n",
      "78.288\n"
     ]
    }
   ],
   "source": [
    "\n",
    "\n",
    "from math import *\n",
    "\n",
    "inp_X = 80\n",
    "\n",
    "x , y = [] , []\n",
    "for _ in range(5):\n",
    "    X , Y = map(int, input().strip().split())\n",
    "    x.append(X)\n",
    "    y.append(Y)\n",
    "    \n",
    "x_mean = sum(x) / 5\n",
    "y_mean = sum(y) / 5\n",
    "\n",
    "sum_sq_x = sum([i**2 for i in x])\n",
    "sum_sq_y = sum([i**2 for i in y])\n",
    "\n",
    "sum_xy = sum([i*j for i,j in zip(x,y)])\n",
    "\n",
    "b = ((5 * sum_xy) - (sum(x) * sum(y))) / ((5 * sum_sq_x) - (sum(x)**2))\n",
    "a = y_mean - (b * x_mean)\n",
    "\n",
    "reg = a + (b * inp_X)\n",
    "print(round(reg, 3))\n"
   ]
  },
  {
   "cell_type": "markdown",
   "metadata": {},
   "source": [
    "# Q.10.Day 9: Multiple Linear Regression"
   ]
  },
  {
   "cell_type": "code",
   "execution_count": 4,
   "metadata": {},
   "outputs": [
    {
     "name": "stdout",
     "output_type": "stream",
     "text": [
      "2 7\n",
      "0.18 0.89 109.85\n",
      "1.0 0.26 155.72\n",
      "0.92 0.11 137.66\n",
      "0.07 0.37 76.17\n",
      "0.85 0.16 139.75\n",
      "0.99 0.41 162.6\n",
      "0.87 0.47 151.77\n",
      "4\n",
      "0.49 0.18\n",
      "105.21\n",
      "0.57 0.83\n",
      "142.67\n",
      "0.56 0.64\n",
      "132.94\n",
      "0.76 0.18\n",
      "129.7\n"
     ]
    }
   ],
   "source": [
    "\n",
    "\n",
    "\n",
    "from sklearn.linear_model import LinearRegression\n",
    "import numpy as np\n",
    "\n",
    "m,n = map(int, input().strip().split())\n",
    "x, y = [], []\n",
    "for i in range(n):\n",
    "    data = list(map(float, input().strip().split()))\n",
    "    x.append(data[:-1])\n",
    "    y.append(data[-1])\n",
    "    \n",
    "reg = LinearRegression()\n",
    "reg.fit(x,y)\n",
    "\n",
    "a = reg.intercept_\n",
    "b = reg.coef_\n",
    " \n",
    "q = int(input()) \n",
    " \n",
    "for j in range(q):\n",
    "    data = list(map(float,input().strip().split()))\n",
    "    y = a + np.dot(data, b) \n",
    "    print(round(y,2))\n"
   ]
  },
  {
   "cell_type": "code",
   "execution_count": null,
   "metadata": {},
   "outputs": [],
   "source": []
  }
 ],
 "metadata": {
  "kernelspec": {
   "display_name": "Python 3",
   "language": "python",
   "name": "python3"
  },
  "language_info": {
   "codemirror_mode": {
    "name": "ipython",
    "version": 3
   },
   "file_extension": ".py",
   "mimetype": "text/x-python",
   "name": "python",
   "nbconvert_exporter": "python",
   "pygments_lexer": "ipython3",
   "version": "3.8.5"
  }
 },
 "nbformat": 4,
 "nbformat_minor": 4
}
